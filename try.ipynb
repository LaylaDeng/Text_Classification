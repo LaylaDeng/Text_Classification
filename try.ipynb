{
 "cells": [
  {
   "cell_type": "markdown",
   "metadata": {},
   "source": [
    "   ## 认认真真参加”达观杯“比赛\n",
    "   \n",
    " #### 1.首先，载入数据"
   ]
  },
  {
   "cell_type": "code",
   "execution_count": 1,
   "metadata": {},
   "outputs": [
    {
     "name": "stderr",
     "output_type": "stream",
     "text": [
      "/Users/dengyuzhao/anaconda3/lib/python3.6/site-packages/h5py/__init__.py:36: FutureWarning: Conversion of the second argument of issubdtype from `float` to `np.floating` is deprecated. In future, it will be treated as `np.float64 == np.dtype(float).type`.\n",
      "  from ._conv import register_converters as _register_converters\n"
     ]
    }
   ],
   "source": [
    "import pandas as pd\n",
    "import numpy as np\n",
    "import tensorflow as tf\n",
    "from sklearn.feature_extraction.text import CountVectorizer, TfidfVectorizer\n",
    "from sklearn import svm\n",
    "\n",
    "\n",
    "train = pd.read_csv( '/Users/dengyuzhao/Downloads/达观杯/train_set.csv')\n",
    "test = pd.read_csv( '/Users/dengyuzhao/Downloads/达观杯/test_set.csv')"
   ]
  },
  {
   "cell_type": "markdown",
   "metadata": {},
   "source": [
    "#### 2.分析数据"
   ]
  },
  {
   "cell_type": "code",
   "execution_count": 2,
   "metadata": {},
   "outputs": [
    {
     "name": "stdout",
     "output_type": "stream",
     "text": [
      "Index(['id', 'article', 'word_seg', 'class'], dtype='object')\n"
     ]
    }
   ],
   "source": [
    "print(train.columns,)"
   ]
  },
  {
   "cell_type": "code",
   "execution_count": 7,
   "metadata": {},
   "outputs": [
    {
     "name": "stdout",
     "output_type": "stream",
     "text": [
      "   id                                            article  \\\n",
      "0   0  7368 1252069 365865 755561 1044285 129532 1053...   \n",
      "1   1  581131 165432 7368 957317 1197553 570900 33659...   \n",
      "2   2  7368 87936 40494 490286 856005 641588 145611 1...   \n",
      "3   3  299237 760651 299237 887082 159592 556634 7489...   \n",
      "4   4  7368 7368 7368 865510 7368 396966 995243 37685...   \n",
      "\n",
      "                                            word_seg  class  \n",
      "0  816903 597526 520477 1179558 1033823 758724 63...     14  \n",
      "1  90540 816903 441039 816903 569138 816903 10343...      3  \n",
      "2  816903 1012629 957974 1033823 328210 947200 65...     12  \n",
      "3  563568 1239563 680125 780219 782805 1033823 19...     13  \n",
      "4  816903 816903 816903 139132 816903 312320 1103...     12      id                                            article  \\\n",
      "0   0  7368 146447 316564 42610 55736 297797 93042 53...   \n",
      "1   1  985531 473628 1044285 1121849 206763 462208 11...   \n",
      "2   2  7368 7368 7368 7368 7368 7368 7368 7368 7368 7...   \n",
      "3   3  529819 1226459 856005 1177293 663773 272235 93...   \n",
      "4   4  42610 1252069 1077049 955883 1125260 1044285 2...   \n",
      "\n",
      "                                            word_seg  \n",
      "0  816903 565958 726082 764656 335008 75094 20282...  \n",
      "1  729468 520477 529032 101368 335130 520477 1113...  \n",
      "2  816903 816903 816903 816903 816903 816903 8169...  \n",
      "3  231664 1033823 524850 330478 507199 520477 618...  \n",
      "4  545370 379223 162767 520477 1194630 1197475 11...  \n"
     ]
    }
   ],
   "source": [
    "print(train.head(5),test.head(5))"
   ]
  },
  {
   "cell_type": "code",
   "execution_count": 3,
   "metadata": {},
   "outputs": [
    {
     "name": "stdout",
     "output_type": "stream",
     "text": [
      "19\n"
     ]
    }
   ],
   "source": [
    "print(train['class'].max())"
   ]
  },
  {
   "cell_type": "code",
   "execution_count": 31,
   "metadata": {},
   "outputs": [
    {
     "ename": "TypeError",
     "evalue": "an integer is required (got type str)",
     "output_type": "error",
     "traceback": [
      "\u001b[0;31m---------------------------------------------------------------------------\u001b[0m",
      "\u001b[0;31mTypeError\u001b[0m                                 Traceback (most recent call last)",
      "\u001b[0;32m<ipython-input-31-479de7de0e0f>\u001b[0m in \u001b[0;36m<module>\u001b[0;34m()\u001b[0m\n\u001b[1;32m      5\u001b[0m \u001b[0mtrn_term_doc\u001b[0m \u001b[0;34m=\u001b[0m \u001b[0mvec\u001b[0m\u001b[0;34m.\u001b[0m\u001b[0mfit_transform\u001b[0m\u001b[0;34m(\u001b[0m\u001b[0mtrain\u001b[0m\u001b[0;34m[\u001b[0m\u001b[0mcolumn\u001b[0m\u001b[0;34m]\u001b[0m\u001b[0;34m)\u001b[0m\u001b[0;34m\u001b[0m\u001b[0m\n\u001b[1;32m      6\u001b[0m \u001b[0mtest_term_doc\u001b[0m \u001b[0;34m=\u001b[0m \u001b[0mvec\u001b[0m\u001b[0;34m.\u001b[0m\u001b[0mtransform\u001b[0m\u001b[0;34m(\u001b[0m\u001b[0mtest\u001b[0m\u001b[0;34m[\u001b[0m\u001b[0mcolumn\u001b[0m\u001b[0;34m]\u001b[0m\u001b[0;34m)\u001b[0m\u001b[0;34m\u001b[0m\u001b[0m\n\u001b[0;32m----> 7\u001b[0;31m \u001b[0mfid0\u001b[0m\u001b[0;34m=\u001b[0m\u001b[0mopen\u001b[0m\u001b[0;34m(\u001b[0m\u001b[0;34m'/Users/dengyuzhao/Downloads/达观杯/baseline.csv'\u001b[0m\u001b[0;34m,\u001b[0m\u001b[0;34m'w'\u001b[0m\u001b[0;34m,\u001b[0m\u001b[0;34m\"UTF-8\"\u001b[0m\u001b[0;34m)\u001b[0m\u001b[0;34m\u001b[0m\u001b[0m\n\u001b[0m\u001b[1;32m      8\u001b[0m \u001b[0;34m\u001b[0m\u001b[0m\n\u001b[1;32m      9\u001b[0m \u001b[0my\u001b[0m\u001b[0;34m=\u001b[0m\u001b[0;34m(\u001b[0m\u001b[0mtrain\u001b[0m\u001b[0;34m[\u001b[0m\u001b[0;34m\"class\"\u001b[0m\u001b[0;34m]\u001b[0m\u001b[0;34m-\u001b[0m\u001b[0;36m1\u001b[0m\u001b[0;34m)\u001b[0m\u001b[0;34m.\u001b[0m\u001b[0mastype\u001b[0m\u001b[0;34m(\u001b[0m\u001b[0mint\u001b[0m\u001b[0;34m)\u001b[0m\u001b[0;34m\u001b[0m\u001b[0m\n",
      "\u001b[0;31mTypeError\u001b[0m: an integer is required (got type str)"
     ]
    }
   ],
   "source": [
    "column = \"word_seg\"\n",
    "\n",
    "test_id = test[\"id\"].copy()\n",
    "vec = TfidfVectorizer(ngram_range=(1,2),min_df=3, max_df=0.9,use_idf=1,smooth_idf=1, sublinear_tf=1)\n",
    "trn_term_doc = vec.fit_transform(train[column])\n",
    "test_term_doc = vec.transform(test[column])\n",
    "try=open('/Users/dengyuzhao/Downloads/达观杯/01_try.csv','w')\n",
    "\n",
    "y=(train[\"class\"]-1).astype(int)\n",
    "lin_clf = svm.LinearSVC()\n",
    "lin_clf.fit(trn_term_doc,y)\n",
    "preds = lin_clf.predict(test_term_doc)\n",
    "i=0\n",
    "try.write(\"id,class\"+\"\\n\")\n",
    "for item in preds:\n",
    "    try.write(str(i)+\",\"+str(item+1)+\"\\n\")\n",
    "    i=i+1\n",
    "try.close()"
   ]
  }
 ],
 "metadata": {
  "kernelspec": {
   "display_name": "Python 3",
   "language": "python",
   "name": "python3"
  },
  "language_info": {
   "codemirror_mode": {
    "name": "ipython",
    "version": 3
   },
   "file_extension": ".py",
   "mimetype": "text/x-python",
   "name": "python",
   "nbconvert_exporter": "python",
   "pygments_lexer": "ipython3",
   "version": "3.6.4"
  }
 },
 "nbformat": 4,
 "nbformat_minor": 2
}
